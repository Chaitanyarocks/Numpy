{
 "cells": [
  {
   "cell_type": "code",
   "execution_count": 1,
   "id": "59234b80",
   "metadata": {},
   "outputs": [],
   "source": [
    "import numpy as np"
   ]
  },
  {
   "cell_type": "code",
   "execution_count": 2,
   "id": "2d41cced",
   "metadata": {},
   "outputs": [],
   "source": [
    "ar=np.array([2,3,4,6])"
   ]
  },
  {
   "cell_type": "code",
   "execution_count": 3,
   "id": "69908bc1",
   "metadata": {},
   "outputs": [
    {
     "data": {
      "text/plain": [
       "array([2, 3, 4, 6])"
      ]
     },
     "execution_count": 3,
     "metadata": {},
     "output_type": "execute_result"
    }
   ],
   "source": [
    "ar"
   ]
  },
  {
   "cell_type": "code",
   "execution_count": 4,
   "id": "6fcfb861",
   "metadata": {},
   "outputs": [],
   "source": [
    "x=ar+10"
   ]
  },
  {
   "cell_type": "code",
   "execution_count": 5,
   "id": "b6eaf2f6",
   "metadata": {},
   "outputs": [
    {
     "data": {
      "text/plain": [
       "array([12, 13, 14, 16])"
      ]
     },
     "execution_count": 5,
     "metadata": {},
     "output_type": "execute_result"
    }
   ],
   "source": [
    "x"
   ]
  },
  {
   "cell_type": "code",
   "execution_count": 6,
   "id": "904bb38a",
   "metadata": {},
   "outputs": [
    {
     "data": {
      "text/plain": [
       "(4,)"
      ]
     },
     "execution_count": 6,
     "metadata": {},
     "output_type": "execute_result"
    }
   ],
   "source": [
    "ar.shape "
   ]
  },
  {
   "cell_type": "code",
   "execution_count": 7,
   "id": "0db88c20",
   "metadata": {},
   "outputs": [
    {
     "data": {
      "text/plain": [
       "dtype('int32')"
      ]
     },
     "execution_count": 7,
     "metadata": {},
     "output_type": "execute_result"
    }
   ],
   "source": [
    "ar.dtype"
   ]
  },
  {
   "cell_type": "code",
   "execution_count": 8,
   "id": "5166e90b",
   "metadata": {},
   "outputs": [],
   "source": [
    "arr=np.array([2.0,5.3,6.0])"
   ]
  },
  {
   "cell_type": "code",
   "execution_count": 9,
   "id": "43a7351e",
   "metadata": {},
   "outputs": [
    {
     "data": {
      "text/plain": [
       "dtype('float64')"
      ]
     },
     "execution_count": 9,
     "metadata": {},
     "output_type": "execute_result"
    }
   ],
   "source": [
    "arr.dtype"
   ]
  },
  {
   "cell_type": "markdown",
   "id": "d4290bef",
   "metadata": {},
   "source": [
    "#TWO DIMENSION"
   ]
  },
  {
   "cell_type": "code",
   "execution_count": 10,
   "id": "ab6bd784",
   "metadata": {},
   "outputs": [],
   "source": [
    "a=np.array([(2,5,6),\n",
    "         (6,4,5)])"
   ]
  },
  {
   "cell_type": "code",
   "execution_count": 11,
   "id": "02714af3",
   "metadata": {},
   "outputs": [
    {
     "data": {
      "text/plain": [
       "array([[2, 5, 6],\n",
       "       [6, 4, 5]])"
      ]
     },
     "execution_count": 11,
     "metadata": {},
     "output_type": "execute_result"
    }
   ],
   "source": [
    "a"
   ]
  },
  {
   "cell_type": "code",
   "execution_count": 12,
   "id": "402aa8b1",
   "metadata": {},
   "outputs": [
    {
     "data": {
      "text/plain": [
       "6"
      ]
     },
     "execution_count": 12,
     "metadata": {},
     "output_type": "execute_result"
    }
   ],
   "source": [
    "a.size"
   ]
  },
  {
   "cell_type": "code",
   "execution_count": 13,
   "id": "5d716cd5",
   "metadata": {},
   "outputs": [
    {
     "data": {
      "text/plain": [
       "(2, 3)"
      ]
     },
     "execution_count": 13,
     "metadata": {},
     "output_type": "execute_result"
    }
   ],
   "source": [
    "a.shape "
   ]
  },
  {
   "cell_type": "code",
   "execution_count": 14,
   "id": "26a8bf2d",
   "metadata": {},
   "outputs": [],
   "source": [
    "b=np.array([(1,2,3),\n",
    "    (4,5,6),\n",
    "    (7,8,9)])"
   ]
  },
  {
   "cell_type": "code",
   "execution_count": 15,
   "id": "d9eaf8da",
   "metadata": {},
   "outputs": [
    {
     "data": {
      "text/plain": [
       "array([[1, 2, 3],\n",
       "       [4, 5, 6],\n",
       "       [7, 8, 9]])"
      ]
     },
     "execution_count": 15,
     "metadata": {},
     "output_type": "execute_result"
    }
   ],
   "source": [
    "b"
   ]
  },
  {
   "cell_type": "code",
   "execution_count": 16,
   "id": "fa363467",
   "metadata": {},
   "outputs": [
    {
     "data": {
      "text/plain": [
       "(3, 3)"
      ]
     },
     "execution_count": 16,
     "metadata": {},
     "output_type": "execute_result"
    }
   ],
   "source": [
    "b.shape"
   ]
  },
  {
   "cell_type": "code",
   "execution_count": 17,
   "id": "7ccf0780",
   "metadata": {},
   "outputs": [],
   "source": [
    "c=np.array([(2,4,5,6),\n",
    "           (7,8,9,0),\n",
    "           (2,5,3,4)])"
   ]
  },
  {
   "cell_type": "code",
   "execution_count": 18,
   "id": "d8075a0c",
   "metadata": {},
   "outputs": [
    {
     "data": {
      "text/plain": [
       "array([[2, 4, 5, 6],\n",
       "       [7, 8, 9, 0],\n",
       "       [2, 5, 3, 4]])"
      ]
     },
     "execution_count": 18,
     "metadata": {},
     "output_type": "execute_result"
    }
   ],
   "source": [
    "c"
   ]
  },
  {
   "cell_type": "code",
   "execution_count": 19,
   "id": "1ed405a1",
   "metadata": {},
   "outputs": [
    {
     "data": {
      "text/plain": [
       "(3, 4)"
      ]
     },
     "execution_count": 19,
     "metadata": {},
     "output_type": "execute_result"
    }
   ],
   "source": [
    "c.shape"
   ]
  },
  {
   "cell_type": "code",
   "execution_count": 20,
   "id": "60c28fee",
   "metadata": {},
   "outputs": [],
   "source": [
    "d=np.zeros((2,2),dtype=np.int16)"
   ]
  },
  {
   "cell_type": "code",
   "execution_count": 21,
   "id": "444817bc",
   "metadata": {},
   "outputs": [
    {
     "data": {
      "text/plain": [
       "array([[0, 0],\n",
       "       [0, 0]], dtype=int16)"
      ]
     },
     "execution_count": 21,
     "metadata": {},
     "output_type": "execute_result"
    }
   ],
   "source": [
    "d"
   ]
  },
  {
   "cell_type": "code",
   "execution_count": 22,
   "id": "717020da",
   "metadata": {},
   "outputs": [],
   "source": [
    "e=np.ones((3,2),dtype=np.int16)"
   ]
  },
  {
   "cell_type": "code",
   "execution_count": 23,
   "id": "0dabc178",
   "metadata": {},
   "outputs": [
    {
     "data": {
      "text/plain": [
       "array([[1, 1],\n",
       "       [1, 1],\n",
       "       [1, 1]], dtype=int16)"
      ]
     },
     "execution_count": 23,
     "metadata": {},
     "output_type": "execute_result"
    }
   ],
   "source": [
    "e"
   ]
  },
  {
   "cell_type": "code",
   "execution_count": 24,
   "id": "93df8e84",
   "metadata": {},
   "outputs": [],
   "source": [
    "f = np.array([(1,2,3), (4,5,6)])"
   ]
  },
  {
   "cell_type": "code",
   "execution_count": 25,
   "id": "ddb9b17a",
   "metadata": {},
   "outputs": [
    {
     "data": {
      "text/plain": [
       "array([[1, 2, 3],\n",
       "       [4, 5, 6]])"
      ]
     },
     "execution_count": 25,
     "metadata": {},
     "output_type": "execute_result"
    }
   ],
   "source": [
    "f"
   ]
  },
  {
   "cell_type": "code",
   "execution_count": 26,
   "id": "b7211d82",
   "metadata": {},
   "outputs": [
    {
     "data": {
      "text/plain": [
       "array([[1, 2],\n",
       "       [3, 4],\n",
       "       [5, 6]])"
      ]
     },
     "execution_count": 26,
     "metadata": {},
     "output_type": "execute_result"
    }
   ],
   "source": [
    "f.reshape(3,2)"
   ]
  },
  {
   "cell_type": "code",
   "execution_count": 27,
   "id": "96b088f4",
   "metadata": {},
   "outputs": [
    {
     "data": {
      "text/plain": [
       "array([1, 2, 3, 4, 5, 6])"
      ]
     },
     "execution_count": 27,
     "metadata": {},
     "output_type": "execute_result"
    }
   ],
   "source": [
    "f.flatten()"
   ]
  },
  {
   "cell_type": "code",
   "execution_count": 28,
   "id": "df24166f",
   "metadata": {},
   "outputs": [],
   "source": [
    "h=np.array([2,3,4])\n",
    "g=np.array([5,6,7])"
   ]
  },
  {
   "cell_type": "code",
   "execution_count": 29,
   "id": "e6694658",
   "metadata": {},
   "outputs": [
    {
     "data": {
      "text/plain": [
       "array([2, 3, 4, 5, 6, 7])"
      ]
     },
     "execution_count": 29,
     "metadata": {},
     "output_type": "execute_result"
    }
   ],
   "source": [
    "np.hstack((h,g))"
   ]
  },
  {
   "cell_type": "code",
   "execution_count": 30,
   "id": "b3f9630a",
   "metadata": {},
   "outputs": [
    {
     "data": {
      "text/plain": [
       "array([[2, 3, 4],\n",
       "       [5, 6, 7]])"
      ]
     },
     "execution_count": 30,
     "metadata": {},
     "output_type": "execute_result"
    }
   ],
   "source": [
    "np.vstack((h,g))"
   ]
  },
  {
   "cell_type": "code",
   "execution_count": 31,
   "id": "1337873f",
   "metadata": {},
   "outputs": [
    {
     "data": {
      "text/plain": [
       "array([  5.05012415,   5.14260961, -10.44855475,  10.80656256,\n",
       "         2.81568677,  22.8982494 , -26.9592754 ,  10.7921145 ,\n",
       "        -3.60140002,  -0.73280519,  18.30386617])"
      ]
     },
     "execution_count": 31,
     "metadata": {},
     "output_type": "execute_result"
    }
   ],
   "source": [
    "np.random.normal(5,10,11)"
   ]
  },
  {
   "cell_type": "code",
   "execution_count": 32,
   "id": "31447d78",
   "metadata": {},
   "outputs": [],
   "source": [
    "j=np.matrix(np.zeros((5,5),dtype=np.int16))"
   ]
  },
  {
   "cell_type": "code",
   "execution_count": 33,
   "id": "34177179",
   "metadata": {},
   "outputs": [
    {
     "data": {
      "text/plain": [
       "matrix([[0, 0, 0, 0, 0],\n",
       "        [0, 0, 0, 0, 0],\n",
       "        [0, 0, 0, 0, 0],\n",
       "        [0, 0, 0, 0, 0],\n",
       "        [0, 0, 0, 0, 0]], dtype=int16)"
      ]
     },
     "execution_count": 33,
     "metadata": {},
     "output_type": "execute_result"
    }
   ],
   "source": [
    "j"
   ]
  },
  {
   "cell_type": "code",
   "execution_count": 34,
   "id": "cc1b213e",
   "metadata": {},
   "outputs": [],
   "source": [
    "k=np.matrix(np.ones((3,3),dtype=np.int16))"
   ]
  },
  {
   "cell_type": "code",
   "execution_count": 35,
   "id": "483bb93f",
   "metadata": {},
   "outputs": [
    {
     "data": {
      "text/plain": [
       "matrix([[1, 1, 1],\n",
       "        [1, 1, 1],\n",
       "        [1, 1, 1]], dtype=int16)"
      ]
     },
     "execution_count": 35,
     "metadata": {},
     "output_type": "execute_result"
    }
   ],
   "source": [
    "k"
   ]
  },
  {
   "cell_type": "code",
   "execution_count": 36,
   "id": "c2f168ad",
   "metadata": {},
   "outputs": [],
   "source": [
    "np.asarray(k)[2]=2"
   ]
  },
  {
   "cell_type": "code",
   "execution_count": 37,
   "id": "6755b655",
   "metadata": {},
   "outputs": [
    {
     "data": {
      "text/plain": [
       "matrix([[1, 1, 1],\n",
       "        [1, 1, 1],\n",
       "        [2, 2, 2]], dtype=int16)"
      ]
     },
     "execution_count": 37,
     "metadata": {},
     "output_type": "execute_result"
    }
   ],
   "source": [
    "k"
   ]
  },
  {
   "cell_type": "code",
   "execution_count": 38,
   "id": "4acdcfdf",
   "metadata": {},
   "outputs": [
    {
     "data": {
      "text/plain": [
       "array([ 1,  2,  3,  4,  5,  6,  7,  8,  9, 10, 11, 12, 13, 14, 15, 16, 17,\n",
       "       18, 19, 20, 21, 22, 23, 24, 25, 26, 27, 28, 29, 30, 31, 32, 33, 34,\n",
       "       35, 36, 37, 38, 39])"
      ]
     },
     "execution_count": 38,
     "metadata": {},
     "output_type": "execute_result"
    }
   ],
   "source": [
    "np.arange(1,40)"
   ]
  },
  {
   "cell_type": "code",
   "execution_count": 39,
   "id": "ccf5f829",
   "metadata": {},
   "outputs": [
    {
     "data": {
      "text/plain": [
       "array([ 1,  5,  9, 13, 17, 21, 25, 29, 33, 37, 41, 45, 49])"
      ]
     },
     "execution_count": 39,
     "metadata": {},
     "output_type": "execute_result"
    }
   ],
   "source": [
    "np.arange(1,50,4)"
   ]
  },
  {
   "cell_type": "code",
   "execution_count": 40,
   "id": "3527e01f",
   "metadata": {},
   "outputs": [
    {
     "data": {
      "text/plain": [
       "array([ 2.        ,  3.33333333,  4.66666667,  6.        ,  7.33333333,\n",
       "        8.66666667, 10.        , 11.33333333, 12.66666667, 14.        ])"
      ]
     },
     "execution_count": 40,
     "metadata": {},
     "output_type": "execute_result"
    }
   ],
   "source": [
    "np.linspace(2, 14, num=10)"
   ]
  },
  {
   "cell_type": "code",
   "execution_count": 41,
   "id": "a5ed6b43",
   "metadata": {},
   "outputs": [
    {
     "data": {
      "text/plain": [
       "array([1.e+02, 1.e+30])"
      ]
     },
     "execution_count": 41,
     "metadata": {},
     "output_type": "execute_result"
    }
   ],
   "source": [
    "np.logspace(2, 30, num=2)"
   ]
  },
  {
   "cell_type": "code",
   "execution_count": 42,
   "id": "13cb5fbe",
   "metadata": {},
   "outputs": [],
   "source": [
    "l=np.array([(1,2,3),(4,7,3)])"
   ]
  },
  {
   "cell_type": "code",
   "execution_count": 43,
   "id": "47ea7db6",
   "metadata": {},
   "outputs": [
    {
     "data": {
      "text/plain": [
       "array([[1, 2, 3],\n",
       "       [4, 7, 3]])"
      ]
     },
     "execution_count": 43,
     "metadata": {},
     "output_type": "execute_result"
    }
   ],
   "source": [
    "l"
   ]
  },
  {
   "cell_type": "code",
   "execution_count": 44,
   "id": "7968b6ba",
   "metadata": {},
   "outputs": [
    {
     "data": {
      "text/plain": [
       "array([1, 2, 3])"
      ]
     },
     "execution_count": 44,
     "metadata": {},
     "output_type": "execute_result"
    }
   ],
   "source": [
    "l[0]"
   ]
  },
  {
   "cell_type": "code",
   "execution_count": 45,
   "id": "07c8c6fe",
   "metadata": {},
   "outputs": [
    {
     "data": {
      "text/plain": [
       "array([4, 7, 3])"
      ]
     },
     "execution_count": 45,
     "metadata": {},
     "output_type": "execute_result"
    }
   ],
   "source": [
    "l[1]"
   ]
  },
  {
   "cell_type": "code",
   "execution_count": 46,
   "id": "c1909e0b",
   "metadata": {},
   "outputs": [
    {
     "data": {
      "text/plain": [
       "array([2, 7])"
      ]
     },
     "execution_count": 46,
     "metadata": {},
     "output_type": "execute_result"
    }
   ],
   "source": [
    "l[:,1]"
   ]
  },
  {
   "cell_type": "code",
   "execution_count": 47,
   "id": "118268af",
   "metadata": {},
   "outputs": [
    {
     "data": {
      "text/plain": [
       "4"
      ]
     },
     "execution_count": 47,
     "metadata": {},
     "output_type": "execute_result"
    }
   ],
   "source": [
    "l[1,0]"
   ]
  },
  {
   "cell_type": "code",
   "execution_count": 48,
   "id": "4336672e",
   "metadata": {},
   "outputs": [
    {
     "data": {
      "text/plain": [
       "array([3, 3])"
      ]
     },
     "execution_count": 48,
     "metadata": {},
     "output_type": "execute_result"
    }
   ],
   "source": [
    "l[:,2]"
   ]
  },
  {
   "cell_type": "code",
   "execution_count": 49,
   "id": "98e59b2b",
   "metadata": {},
   "outputs": [
    {
     "data": {
      "text/plain": [
       "array([3])"
      ]
     },
     "execution_count": 49,
     "metadata": {},
     "output_type": "execute_result"
    }
   ],
   "source": [
    "l[:1,2]"
   ]
  },
  {
   "cell_type": "code",
   "execution_count": 50,
   "id": "6d3d3c6f",
   "metadata": {},
   "outputs": [],
   "source": [
    "m=np.random.normal([2,10,20])"
   ]
  },
  {
   "cell_type": "code",
   "execution_count": 51,
   "id": "6f091fc7",
   "metadata": {},
   "outputs": [
    {
     "data": {
      "text/plain": [
       "array([ 2.75405418,  8.66559105, 19.93304335])"
      ]
     },
     "execution_count": 51,
     "metadata": {},
     "output_type": "execute_result"
    }
   ],
   "source": [
    "m"
   ]
  },
  {
   "cell_type": "code",
   "execution_count": 52,
   "id": "f810e314",
   "metadata": {},
   "outputs": [],
   "source": [
    "n=np.array([1,2,3,4,5])"
   ]
  },
  {
   "cell_type": "code",
   "execution_count": 53,
   "id": "3a761964",
   "metadata": {},
   "outputs": [
    {
     "data": {
      "text/plain": [
       "5"
      ]
     },
     "execution_count": 53,
     "metadata": {},
     "output_type": "execute_result"
    }
   ],
   "source": [
    "np.max(n)"
   ]
  },
  {
   "cell_type": "code",
   "execution_count": 54,
   "id": "c2c081ab",
   "metadata": {},
   "outputs": [
    {
     "data": {
      "text/plain": [
       "1"
      ]
     },
     "execution_count": 54,
     "metadata": {},
     "output_type": "execute_result"
    }
   ],
   "source": [
    "np.min(n)"
   ]
  },
  {
   "cell_type": "code",
   "execution_count": 55,
   "id": "e1231668",
   "metadata": {},
   "outputs": [
    {
     "data": {
      "text/plain": [
       "3.0"
      ]
     },
     "execution_count": 55,
     "metadata": {},
     "output_type": "execute_result"
    }
   ],
   "source": [
    "np.mean(n)"
   ]
  },
  {
   "cell_type": "code",
   "execution_count": 56,
   "id": "214ba27c",
   "metadata": {},
   "outputs": [
    {
     "data": {
      "text/plain": [
       "3.0"
      ]
     },
     "execution_count": 56,
     "metadata": {},
     "output_type": "execute_result"
    }
   ],
   "source": [
    "np.median(n)"
   ]
  },
  {
   "cell_type": "code",
   "execution_count": 57,
   "id": "7f835066",
   "metadata": {},
   "outputs": [
    {
     "data": {
      "text/plain": [
       "1.4142135623730951"
      ]
     },
     "execution_count": 57,
     "metadata": {},
     "output_type": "execute_result"
    }
   ],
   "source": [
    "np.std(n)"
   ]
  },
  {
   "cell_type": "code",
   "execution_count": 58,
   "id": "8142967d",
   "metadata": {},
   "outputs": [],
   "source": [
    "q=np.array([2,3,4])\n",
    "w=np.array([1,2,3])"
   ]
  },
  {
   "cell_type": "code",
   "execution_count": 59,
   "id": "970a85af",
   "metadata": {},
   "outputs": [
    {
     "data": {
      "text/plain": [
       "20"
      ]
     },
     "execution_count": 59,
     "metadata": {},
     "output_type": "execute_result"
    }
   ],
   "source": [
    "np.dot(q,w)"
   ]
  },
  {
   "cell_type": "code",
   "execution_count": 60,
   "id": "9a02ca68",
   "metadata": {},
   "outputs": [],
   "source": [
    "o=np.array([[2,3],[2,3]])\n",
    "p=np.array([[5,4],[4,1]])"
   ]
  },
  {
   "cell_type": "code",
   "execution_count": 61,
   "id": "6bc0e8ee",
   "metadata": {},
   "outputs": [
    {
     "data": {
      "text/plain": [
       "array([[22, 11],\n",
       "       [22, 11]])"
      ]
     },
     "execution_count": 61,
     "metadata": {},
     "output_type": "execute_result"
    }
   ],
   "source": [
    "np.matmul(o,p)"
   ]
  },
  {
   "cell_type": "code",
   "execution_count": 62,
   "id": "73913146",
   "metadata": {},
   "outputs": [],
   "source": [
    "z=np.array([[1,2,3],\n",
    "           [5,3,2],\n",
    "           [1,5,4]])"
   ]
  },
  {
   "cell_type": "code",
   "execution_count": 63,
   "id": "3e809233",
   "metadata": {},
   "outputs": [
    {
     "name": "stdout",
     "output_type": "stream",
     "text": [
      "[[ 0.0625   0.21875 -0.15625]\n",
      " [-0.5625   0.03125  0.40625]\n",
      " [ 0.6875  -0.09375 -0.21875]]\n"
     ]
    }
   ],
   "source": [
    "print(np.linalg.inv(z))"
   ]
  },
  {
   "cell_type": "code",
   "execution_count": 64,
   "id": "efa40608",
   "metadata": {},
   "outputs": [],
   "source": [
    "y=np.array([[1,2],[1,4]])"
   ]
  },
  {
   "cell_type": "code",
   "execution_count": 65,
   "id": "6ed36f12",
   "metadata": {},
   "outputs": [],
   "source": [
    "det = np.linalg.det(y)"
   ]
  },
  {
   "cell_type": "code",
   "execution_count": 66,
   "id": "c2a9ec64",
   "metadata": {},
   "outputs": [
    {
     "data": {
      "text/plain": [
       "2.0"
      ]
     },
     "execution_count": 66,
     "metadata": {},
     "output_type": "execute_result"
    }
   ],
   "source": [
    "det"
   ]
  },
  {
   "cell_type": "code",
   "execution_count": 67,
   "id": "b644c81a",
   "metadata": {},
   "outputs": [],
   "source": [
    "x=np.array([[11,3,1,0],\n",
    "           [-4,0,1,6],\n",
    "           [0,1,1,1],\n",
    "           [2,6,1,9]])"
   ]
  },
  {
   "cell_type": "code",
   "execution_count": 68,
   "id": "32453ef8",
   "metadata": {},
   "outputs": [
    {
     "data": {
      "text/plain": [
       "4"
      ]
     },
     "execution_count": 68,
     "metadata": {},
     "output_type": "execute_result"
    }
   ],
   "source": [
    "np.linalg.matrix_rank(x)"
   ]
  },
  {
   "cell_type": "code",
   "execution_count": 69,
   "id": "e60054a5",
   "metadata": {},
   "outputs": [],
   "source": [
    "a=np.array([[1,6,1],\n",
    "           [1,2,0],\n",
    "           [0,0,3]])"
   ]
  },
  {
   "cell_type": "code",
   "execution_count": 70,
   "id": "9651420d",
   "metadata": {},
   "outputs": [],
   "source": [
    "eigenvalues, eigenvectors = np.linalg.eig(a)"
   ]
  },
  {
   "cell_type": "code",
   "execution_count": 71,
   "id": "a353547e",
   "metadata": {},
   "outputs": [
    {
     "data": {
      "text/plain": [
       "(array([-1.,  4.,  3.]),\n",
       " array([[-0.9486833 , -0.89442719, -0.23570226],\n",
       "        [ 0.31622777, -0.4472136 , -0.23570226],\n",
       "        [ 0.        ,  0.        ,  0.94280904]]))"
      ]
     },
     "execution_count": 71,
     "metadata": {},
     "output_type": "execute_result"
    }
   ],
   "source": [
    "eigenvalues,eigenvectors"
   ]
  },
  {
   "cell_type": "code",
   "execution_count": 72,
   "id": "deb9c55d",
   "metadata": {},
   "outputs": [],
   "source": [
    "g = np.matrix('[2,4; 5,6]')"
   ]
  },
  {
   "cell_type": "code",
   "execution_count": 73,
   "id": "39193fdc",
   "metadata": {},
   "outputs": [
    {
     "data": {
      "text/plain": [
       "matrix([[2, 4],\n",
       "        [5, 6]])"
      ]
     },
     "execution_count": 73,
     "metadata": {},
     "output_type": "execute_result"
    }
   ],
   "source": [
    "g"
   ]
  },
  {
   "cell_type": "code",
   "execution_count": 74,
   "id": "1a117337",
   "metadata": {},
   "outputs": [],
   "source": [
    "diag = g.diagonal()"
   ]
  },
  {
   "cell_type": "code",
   "execution_count": 75,
   "id": "643bd103",
   "metadata": {},
   "outputs": [
    {
     "data": {
      "text/plain": [
       "matrix([[2, 6]])"
      ]
     },
     "execution_count": 75,
     "metadata": {},
     "output_type": "execute_result"
    }
   ],
   "source": [
    "diag"
   ]
  },
  {
   "cell_type": "code",
   "execution_count": 76,
   "id": "21f04503",
   "metadata": {},
   "outputs": [],
   "source": [
    "trans = g.transpose()"
   ]
  },
  {
   "cell_type": "code",
   "execution_count": 77,
   "id": "56a40ac2",
   "metadata": {},
   "outputs": [
    {
     "data": {
      "text/plain": [
       "matrix([[2, 5],\n",
       "        [4, 6]])"
      ]
     },
     "execution_count": 77,
     "metadata": {},
     "output_type": "execute_result"
    }
   ],
   "source": [
    "trans"
   ]
  },
  {
   "cell_type": "code",
   "execution_count": 78,
   "id": "4d31c68f",
   "metadata": {},
   "outputs": [],
   "source": [
    "trace = g.trace()"
   ]
  },
  {
   "cell_type": "code",
   "execution_count": 79,
   "id": "f6639c3b",
   "metadata": {},
   "outputs": [
    {
     "data": {
      "text/plain": [
       "matrix([[8]])"
      ]
     },
     "execution_count": 79,
     "metadata": {},
     "output_type": "execute_result"
    }
   ],
   "source": [
    "trace"
   ]
  }
 ],
 "metadata": {
  "kernelspec": {
   "display_name": "Python 3 (ipykernel)",
   "language": "python",
   "name": "python3"
  },
  "language_info": {
   "codemirror_mode": {
    "name": "ipython",
    "version": 3
   },
   "file_extension": ".py",
   "mimetype": "text/x-python",
   "name": "python",
   "nbconvert_exporter": "python",
   "pygments_lexer": "ipython3",
   "version": "3.10.0"
  }
 },
 "nbformat": 4,
 "nbformat_minor": 5
}
